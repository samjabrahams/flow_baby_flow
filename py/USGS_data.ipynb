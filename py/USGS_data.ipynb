{
 "metadata": {
  "name": "",
  "signature": "sha256:091c4bbf29d41b52ad9259c505539056d543974742255f1bb6a52df1dfb26919"
 },
 "nbformat": 3,
 "nbformat_minor": 0,
 "worksheets": [
  {
   "cells": [
    {
     "cell_type": "code",
     "collapsed": false,
     "input": [
      "import USGSdata as ugd"
     ],
     "language": "python",
     "metadata": {},
     "outputs": [],
     "prompt_number": 1
    },
    {
     "cell_type": "code",
     "collapsed": false,
     "input": [
      "waterData = ugd.USGSdata()"
     ],
     "language": "python",
     "metadata": {},
     "outputs": [],
     "prompt_number": 2
    },
    {
     "cell_type": "code",
     "collapsed": false,
     "input": [
      "waterData.countyData.head()"
     ],
     "language": "python",
     "metadata": {},
     "outputs": [
      {
       "html": [
        "<div style=\"max-height:1000px;max-width:1500px;overflow:auto;\">\n",
        "<table border=\"1\" class=\"dataframe\">\n",
        "  <thead>\n",
        "    <tr style=\"text-align: right;\">\n",
        "      <th></th>\n",
        "      <th>State Abbreviation</th>\n",
        "      <th>State FIPS Code</th>\n",
        "      <th>County FIPS Code</th>\n",
        "      <th>FIPS Entity Code</th>\n",
        "      <th>ANSI Code</th>\n",
        "      <th>GU Name</th>\n",
        "      <th>USGS County Codes</th>\n",
        "    </tr>\n",
        "  </thead>\n",
        "  <tbody>\n",
        "    <tr>\n",
        "      <th>0</th>\n",
        "      <td> AL</td>\n",
        "      <td> 1</td>\n",
        "      <td> 1</td>\n",
        "      <td> 0</td>\n",
        "      <td> 161526</td>\n",
        "      <td> Autauga</td>\n",
        "      <td> 01001</td>\n",
        "    </tr>\n",
        "    <tr>\n",
        "      <th>1</th>\n",
        "      <td> AL</td>\n",
        "      <td> 1</td>\n",
        "      <td> 3</td>\n",
        "      <td> 0</td>\n",
        "      <td> 161527</td>\n",
        "      <td> Baldwin</td>\n",
        "      <td> 01003</td>\n",
        "    </tr>\n",
        "    <tr>\n",
        "      <th>2</th>\n",
        "      <td> AL</td>\n",
        "      <td> 1</td>\n",
        "      <td> 5</td>\n",
        "      <td> 0</td>\n",
        "      <td> 161528</td>\n",
        "      <td> Barbour</td>\n",
        "      <td> 01005</td>\n",
        "    </tr>\n",
        "    <tr>\n",
        "      <th>3</th>\n",
        "      <td> AL</td>\n",
        "      <td> 1</td>\n",
        "      <td> 7</td>\n",
        "      <td> 0</td>\n",
        "      <td> 161529</td>\n",
        "      <td>    Bibb</td>\n",
        "      <td> 01007</td>\n",
        "    </tr>\n",
        "    <tr>\n",
        "      <th>4</th>\n",
        "      <td> AL</td>\n",
        "      <td> 1</td>\n",
        "      <td> 9</td>\n",
        "      <td> 0</td>\n",
        "      <td> 161530</td>\n",
        "      <td>  Blount</td>\n",
        "      <td> 01009</td>\n",
        "    </tr>\n",
        "  </tbody>\n",
        "</table>\n",
        "</div>"
       ],
       "metadata": {},
       "output_type": "pyout",
       "prompt_number": 3,
       "text": [
        "  State Abbreviation  State FIPS Code  County FIPS Code  FIPS Entity Code  \\\n",
        "0                 AL                1                 1                 0   \n",
        "1                 AL                1                 3                 0   \n",
        "2                 AL                1                 5                 0   \n",
        "3                 AL                1                 7                 0   \n",
        "4                 AL                1                 9                 0   \n",
        "\n",
        "   ANSI Code  GU Name USGS County Codes  \n",
        "0     161526  Autauga             01001  \n",
        "1     161527  Baldwin             01003  \n",
        "2     161528  Barbour             01005  \n",
        "3     161529     Bibb             01007  \n",
        "4     161530   Blount             01009  "
       ]
      }
     ],
     "prompt_number": 3
    },
    {
     "cell_type": "code",
     "collapsed": false,
     "input": [
      "DF = waterData.getCountyStatisticsData(['51017'],stat_cd='00003',startDT='2000-07-01',endDT='2014-08-01')\n",
      "DF.plot()"
     ],
     "language": "python",
     "metadata": {},
     "outputs": [
      {
       "output_type": "stream",
       "stream": "stdout",
       "text": [
        "http://waterservices.usgs.gov/nwis/dv/?countyCd=51017&format=rdb&statCd=00003&startDT=2000-07-01&endDT=2014-08-01&parameterCd=00060\n"
       ]
      },
      {
       "metadata": {},
       "output_type": "pyout",
       "prompt_number": 8,
       "text": [
        "<matplotlib.axes._subplots.AxesSubplot at 0x109a04dd0>"
       ]
      },
      {
       "metadata": {},
       "output_type": "display_data",
       "png": "[encoded data removed]",
       "text": [
        "<matplotlib.figure.Figure at 0x109fbe910>"
       ]
      }
     ],
     "prompt_number": 8
    },
    {
     "cell_type": "code",
     "collapsed": false,
     "input": [],
     "language": "python",
     "metadata": {},
     "outputs": [],
     "prompt_number": 11
    },
    {
     "cell_type": "code",
     "collapsed": false,
     "input": [],
     "language": "python",
     "metadata": {},
     "outputs": []
    },
    {
     "cell_type": "code",
     "collapsed": false,
     "input": [],
     "language": "python",
     "metadata": {},
     "outputs": []
    },
    {
     "cell_type": "code",
     "collapsed": false,
     "input": [
      "import pandas as pd\n"
     ],
     "language": "python",
     "metadata": {},
     "outputs": []
    },
    {
     "cell_type": "code",
     "collapsed": false,
     "input": [],
     "language": "python",
     "metadata": {},
     "outputs": []
    },
    {
     "cell_type": "code",
     "collapsed": false,
     "input": [],
     "language": "python",
     "metadata": {},
     "outputs": []
    },
    {
     "cell_type": "code",
     "collapsed": false,
     "input": [],
     "language": "python",
     "metadata": {},
     "outputs": []
    },
    {
     "cell_type": "code",
     "collapsed": false,
     "input": [],
     "language": "python",
     "metadata": {},
     "outputs": []
    },
    {
     "cell_type": "code",
     "collapsed": false,
     "input": [],
     "language": "python",
     "metadata": {},
     "outputs": []
    }
   ],
   "metadata": {}
  }
 ]
}